{
 "cells": [
  {
   "cell_type": "code",
   "execution_count": 1,
   "id": "97b27561-febc-4aa2-8e97-6b89f71bb541",
   "metadata": {},
   "outputs": [],
   "source": [
    "import salem as sa\n",
    "import xarray as xr\n",
    "from pathlib import Path\n",
    "import matplotlib.pyplot as plt\n",
    "from matplotlib.colors import LinearSegmentedColormap\n",
    "from pyproj import Proj\n",
    "import numpy as np\n",
    "import pandas as pd"
   ]
  },
  {
   "cell_type": "code",
   "execution_count": 2,
   "id": "fe03ef86-cbb5-4efd-9b9c-f207942e4a34",
   "metadata": {},
   "outputs": [],
   "source": [
    "data_base_folder = Path('/home/ben/data/GAR/')\n",
    "project = 'rc_trop_ls'"
   ]
  },
  {
   "cell_type": "code",
   "execution_count": 3,
   "id": "9d1d079d-9f44-4b82-8f03-60a44bc24992",
   "metadata": {},
   "outputs": [],
   "source": [
    "color_map = LinearSegmentedColormap.from_list(\n",
    "    \"mycmap\",\n",
    "    [\"white\", \"steelblue\", \"c\", \"khaki\", \"orange\", \"orangered\", \"r\", \"darkred\"],\n",
    ")\n",
    "\n",
    "def plot_map(ax, ds, model, cmap, scalebar=False):\n",
    "    smap = ds.salem.get_map(data=model, cmap=cmap, vmin=0, vmax=1020)\n",
    "    x, y = smap.grid.transform(lons, lats)\n",
    "    smap.set_shapefile(countries=False)\n",
    "    smap.set_lonlat_contours(xinterval=1)\n",
    "    if scalebar:\n",
    "        smap.set_scale_bar(location=(0.85, 0.08))\n",
    "    smap.visualize(addcbar=False)\n",
    "    return smap"
   ]
  },
  {
   "cell_type": "code",
   "execution_count": 4,
   "id": "c6617c6b-1ebb-4e52-ab84-419537d98ae2",
   "metadata": {},
   "outputs": [
    {
     "data": {
      "text/plain": [
       "<salem.Grid>\n",
       "  proj: +datum=WGS84 +k=0.9996 +lat_0=0 +lon_0=-90 +no_defs+proj=tmerc +units=m +x_0=0 +y_0=0\n",
       "  pixel_ref: corner\n",
       "  origin: lower-left\n",
       "  (nx, ny): (600, 600)\n",
       "  (dx, dy): (166.66666666666666, 166.66666666666666)\n",
       "  (x0, y0): (-50000.0, -50000.0)"
      ]
     },
     "execution_count": 4,
     "metadata": {},
     "output_type": "execute_result"
    }
   ],
   "source": [
    "grid = sa.mercator_grid(center_ll=(-90, 0), extent=(100000, 100000))\n",
    "oceans = sa.read_shapefile(sa.get_demo_file('ne_50m_ocean.shp'),\n",
    "                              cached=True)\n",
    "grid"
   ]
  },
  {
   "cell_type": "code",
   "execution_count": 5,
   "id": "ae3c2f15-8042-4a92-8d14-e9fe4b43ba61",
   "metadata": {},
   "outputs": [],
   "source": [
    "def remove_nonalphanumerics(string: str) -> str:\n",
    "    return \"\".join(ch for ch in string if ch.isalnum())\n",
    "\n",
    "def open_dataset(file, ):\n",
    "    data_base_folder = Path('/home/ben/data/GAR/')\n",
    "    ds = xr.open_dataset(\n",
    "        data_base_folder/file,\n",
    "        decode_cf=False\n",
    "    )\n",
    "    projection = {\n",
    "        \"lat_0\": float(ds.attrs[\"PROJ_ENVI_STRING\"].split(\",\")[3]),\n",
    "        \"lon_0\": float(ds.attrs[\"PROJ_ENVI_STRING\"].split(\",\")[4]),\n",
    "        \"x_0\": float(ds.attrs[\"PROJ_ENVI_STRING\"].split(\",\")[5]),\n",
    "        \"y_0\": float(ds.attrs[\"PROJ_ENVI_STRING\"].split(\",\")[5]),\n",
    "        \"ellps\": remove_nonalphanumerics(ds.attrs[\"PROJ_ENVI_STRING\"].split(\",\")[7]),\n",
    "        \"name\": remove_nonalphanumerics(\n",
    "            str(ds.attrs[\"PROJ_ENVI_STRING\"].split(\",\")[8])\n",
    "        ),\n",
    "    }\n",
    "    # pyproj_srs='+proj=merc +lat_0=2 +lon_0=-89.5 +k=1 +x_0=0 +y_0=00 +ellps=WGS84 +datum=WGS84 +units=m +no_defs'\n",
    "    proj = \"merc\" if projection[\"name\"].lower() == \"wrfmercator\" else \"lcc\"\n",
    "    pyproj_srs = (\n",
    "        f\"+proj={proj} +lat_0={str(projection['lat_0'])} +lon_0={str(projection['lon_0'])} +k=1 \"\n",
    "        f\"+x_0={str(projection['x_0'])} +y_0={str(projection['y_0'])} +ellps={projection['ellps']} \"\n",
    "        f\"+datum={projection['ellps']} +units=m +no_defs\"\n",
    "    )\n",
    "\n",
    "    split = file.split('/')[-1].split('_')\n",
    "    var = split[-2]\n",
    "    if var == 'lu':\n",
    "        var = split[-2] + '_' + split[-1].split('.')[0]\n",
    "    ds[var].attrs['pyproj_srs'] = pyproj_srs\n",
    "    return ds"
   ]
  },
  {
   "cell_type": "code",
   "execution_count": 6,
   "id": "91adff79-033b-49d0-a441-07cd49c12eb4",
   "metadata": {},
   "outputs": [],
   "source": [
    "proj_string = '+proj=merc +lat_0=2 +lon_0=-90.32 +k=1 +x_0=0 +y_0=00 +ellps=WGS84 +datum=WGS84 +units=m +no_defs'"
   ]
  },
  {
   "cell_type": "code",
   "execution_count": 7,
   "id": "c378d73a-65f2-4939-a3ef-29bb1424c9dc",
   "metadata": {},
   "outputs": [],
   "source": [
    "def find_lonlat(ds, var, lon, lat):\n",
    "    abslat = np.abs(ds.lat-lat)\n",
    "    abslon = np.abs(ds.lon-lon)\n",
    "    c = np.maximum(abslon, abslat)\n",
    "    ([xlon], [xlat]) = np.where(c == np.min(c))\n",
    "    selected = ds.isel(west_east=xlon, south_north=xlat)\n",
    "    return pd.Series(selected[var])"
   ]
  },
  {
   "cell_type": "code",
   "execution_count": 9,
   "id": "a7d3aa9b-47c8-4279-81f4-64110d143c2b",
   "metadata": {},
   "outputs": [
    {
     "ename": "FileNotFoundError",
     "evalue": "[Errno 2] No such file or directory: b'/home/ben/data/GAR/rc_trop_ls/products/rc_trop_ls_d10km_d_2d_et_2022.nc'",
     "output_type": "error",
     "traceback": [
      "\u001b[0;31m---------------------------------------------------------------------------\u001b[0m",
      "\u001b[0;31mKeyError\u001b[0m                                  Traceback (most recent call last)",
      "File \u001b[0;32m~/.pyenv/versions/3.9.9/envs/darwin/lib/python3.9/site-packages/xarray/backends/file_manager.py:201\u001b[0m, in \u001b[0;36mCachingFileManager._acquire_with_cache_info\u001b[0;34m(self, needs_lock)\u001b[0m\n\u001b[1;32m    200\u001b[0m \u001b[38;5;28;01mtry\u001b[39;00m:\n\u001b[0;32m--> 201\u001b[0m     file \u001b[38;5;241m=\u001b[39m \u001b[38;5;28;43mself\u001b[39;49m\u001b[38;5;241;43m.\u001b[39;49m\u001b[43m_cache\u001b[49m\u001b[43m[\u001b[49m\u001b[38;5;28;43mself\u001b[39;49m\u001b[38;5;241;43m.\u001b[39;49m\u001b[43m_key\u001b[49m\u001b[43m]\u001b[49m\n\u001b[1;32m    202\u001b[0m \u001b[38;5;28;01mexcept\u001b[39;00m \u001b[38;5;167;01mKeyError\u001b[39;00m:\n",
      "File \u001b[0;32m~/.pyenv/versions/3.9.9/envs/darwin/lib/python3.9/site-packages/xarray/backends/lru_cache.py:55\u001b[0m, in \u001b[0;36mLRUCache.__getitem__\u001b[0;34m(self, key)\u001b[0m\n\u001b[1;32m     54\u001b[0m \u001b[38;5;28;01mwith\u001b[39;00m \u001b[38;5;28mself\u001b[39m\u001b[38;5;241m.\u001b[39m_lock:\n\u001b[0;32m---> 55\u001b[0m     value \u001b[38;5;241m=\u001b[39m \u001b[38;5;28;43mself\u001b[39;49m\u001b[38;5;241;43m.\u001b[39;49m\u001b[43m_cache\u001b[49m\u001b[43m[\u001b[49m\u001b[43mkey\u001b[49m\u001b[43m]\u001b[49m\n\u001b[1;32m     56\u001b[0m     \u001b[38;5;28mself\u001b[39m\u001b[38;5;241m.\u001b[39m_cache\u001b[38;5;241m.\u001b[39mmove_to_end(key)\n",
      "\u001b[0;31mKeyError\u001b[0m: [<class 'netCDF4._netCDF4.Dataset'>, ('/home/ben/data/GAR/rc_trop_ls/products/rc_trop_ls_d10km_d_2d_et_2022.nc',), 'r', (('clobber', True), ('diskless', False), ('format', 'NETCDF4'), ('persist', False))]",
      "\nDuring handling of the above exception, another exception occurred:\n",
      "\u001b[0;31mFileNotFoundError\u001b[0m                         Traceback (most recent call last)",
      "Cell \u001b[0;32mIn [9], line 1\u001b[0m\n\u001b[0;32m----> 1\u001b[0m ds \u001b[38;5;241m=\u001b[39m open_dataset(\n\u001b[1;32m      2\u001b[0m     \u001b[38;5;124m'\u001b[39m\u001b[38;5;124mrc_trop_ls/products/rc_trop_ls_d10km_d_2d_et_2022.nc\u001b[39m\u001b[38;5;124m'\u001b[39m,\n\u001b[1;32m      3\u001b[0m )\n\u001b[1;32m      4\u001b[0m minas_rojas \u001b[38;5;241m=\u001b[39m find_lonlat(ds, \u001b[38;5;124m\"\u001b[39m\u001b[38;5;124met\u001b[39m\u001b[38;5;124m\"\u001b[39m, \u001b[38;5;241m-\u001b[39m\u001b[38;5;241m90.3673\u001b[39m, \u001b[38;5;241m-\u001b[39m\u001b[38;5;241m0.618625\u001b[39m)\n\u001b[1;32m      5\u001b[0m \u001b[38;5;66;03m# selected = ds.isel(west_east=minas_rojas[0], south_north=minas_rojas[1])\u001b[39;00m\n\u001b[1;32m      6\u001b[0m \u001b[38;5;66;03m# selected = select_lonlat(ds, -90.3673, -0.618625)\u001b[39;00m\n",
      "Cell \u001b[0;32mIn [5], line 6\u001b[0m, in \u001b[0;36mopen_dataset\u001b[0;34m(file)\u001b[0m\n\u001b[1;32m      4\u001b[0m \u001b[38;5;28;01mdef\u001b[39;00m \u001b[38;5;21mopen_dataset\u001b[39m(file, ):\n\u001b[1;32m      5\u001b[0m     data_base_folder \u001b[38;5;241m=\u001b[39m Path(\u001b[38;5;124m'\u001b[39m\u001b[38;5;124m/home/ben/data/GAR/\u001b[39m\u001b[38;5;124m'\u001b[39m)\n\u001b[0;32m----> 6\u001b[0m     ds \u001b[38;5;241m=\u001b[39m \u001b[43mxr\u001b[49m\u001b[38;5;241;43m.\u001b[39;49m\u001b[43mopen_dataset\u001b[49m\u001b[43m(\u001b[49m\n\u001b[1;32m      7\u001b[0m \u001b[43m        \u001b[49m\u001b[43mdata_base_folder\u001b[49m\u001b[38;5;241;43m/\u001b[39;49m\u001b[43mfile\u001b[49m\u001b[43m,\u001b[49m\n\u001b[1;32m      8\u001b[0m \u001b[43m        \u001b[49m\u001b[43mdecode_cf\u001b[49m\u001b[38;5;241;43m=\u001b[39;49m\u001b[38;5;28;43;01mFalse\u001b[39;49;00m\n\u001b[1;32m      9\u001b[0m \u001b[43m    \u001b[49m\u001b[43m)\u001b[49m\n\u001b[1;32m     10\u001b[0m     projection \u001b[38;5;241m=\u001b[39m {\n\u001b[1;32m     11\u001b[0m         \u001b[38;5;124m\"\u001b[39m\u001b[38;5;124mlat_0\u001b[39m\u001b[38;5;124m\"\u001b[39m: \u001b[38;5;28mfloat\u001b[39m(ds\u001b[38;5;241m.\u001b[39mattrs[\u001b[38;5;124m\"\u001b[39m\u001b[38;5;124mPROJ_ENVI_STRING\u001b[39m\u001b[38;5;124m\"\u001b[39m]\u001b[38;5;241m.\u001b[39msplit(\u001b[38;5;124m\"\u001b[39m\u001b[38;5;124m,\u001b[39m\u001b[38;5;124m\"\u001b[39m)[\u001b[38;5;241m3\u001b[39m]),\n\u001b[1;32m     12\u001b[0m         \u001b[38;5;124m\"\u001b[39m\u001b[38;5;124mlon_0\u001b[39m\u001b[38;5;124m\"\u001b[39m: \u001b[38;5;28mfloat\u001b[39m(ds\u001b[38;5;241m.\u001b[39mattrs[\u001b[38;5;124m\"\u001b[39m\u001b[38;5;124mPROJ_ENVI_STRING\u001b[39m\u001b[38;5;124m\"\u001b[39m]\u001b[38;5;241m.\u001b[39msplit(\u001b[38;5;124m\"\u001b[39m\u001b[38;5;124m,\u001b[39m\u001b[38;5;124m\"\u001b[39m)[\u001b[38;5;241m4\u001b[39m]),\n\u001b[0;32m   (...)\u001b[0m\n\u001b[1;32m     18\u001b[0m         ),\n\u001b[1;32m     19\u001b[0m     }\n\u001b[1;32m     20\u001b[0m     \u001b[38;5;66;03m# pyproj_srs='+proj=merc +lat_0=2 +lon_0=-89.5 +k=1 +x_0=0 +y_0=00 +ellps=WGS84 +datum=WGS84 +units=m +no_defs'\u001b[39;00m\n",
      "File \u001b[0;32m~/.pyenv/versions/3.9.9/envs/darwin/lib/python3.9/site-packages/xarray/backends/api.py:531\u001b[0m, in \u001b[0;36mopen_dataset\u001b[0;34m(filename_or_obj, engine, chunks, cache, decode_cf, mask_and_scale, decode_times, decode_timedelta, use_cftime, concat_characters, decode_coords, drop_variables, inline_array, backend_kwargs, **kwargs)\u001b[0m\n\u001b[1;32m    519\u001b[0m decoders \u001b[38;5;241m=\u001b[39m _resolve_decoders_kwargs(\n\u001b[1;32m    520\u001b[0m     decode_cf,\n\u001b[1;32m    521\u001b[0m     open_backend_dataset_parameters\u001b[38;5;241m=\u001b[39mbackend\u001b[38;5;241m.\u001b[39mopen_dataset_parameters,\n\u001b[0;32m   (...)\u001b[0m\n\u001b[1;32m    527\u001b[0m     decode_coords\u001b[38;5;241m=\u001b[39mdecode_coords,\n\u001b[1;32m    528\u001b[0m )\n\u001b[1;32m    530\u001b[0m overwrite_encoded_chunks \u001b[38;5;241m=\u001b[39m kwargs\u001b[38;5;241m.\u001b[39mpop(\u001b[38;5;124m\"\u001b[39m\u001b[38;5;124moverwrite_encoded_chunks\u001b[39m\u001b[38;5;124m\"\u001b[39m, \u001b[38;5;28;01mNone\u001b[39;00m)\n\u001b[0;32m--> 531\u001b[0m backend_ds \u001b[38;5;241m=\u001b[39m \u001b[43mbackend\u001b[49m\u001b[38;5;241;43m.\u001b[39;49m\u001b[43mopen_dataset\u001b[49m\u001b[43m(\u001b[49m\n\u001b[1;32m    532\u001b[0m \u001b[43m    \u001b[49m\u001b[43mfilename_or_obj\u001b[49m\u001b[43m,\u001b[49m\n\u001b[1;32m    533\u001b[0m \u001b[43m    \u001b[49m\u001b[43mdrop_variables\u001b[49m\u001b[38;5;241;43m=\u001b[39;49m\u001b[43mdrop_variables\u001b[49m\u001b[43m,\u001b[49m\n\u001b[1;32m    534\u001b[0m \u001b[43m    \u001b[49m\u001b[38;5;241;43m*\u001b[39;49m\u001b[38;5;241;43m*\u001b[39;49m\u001b[43mdecoders\u001b[49m\u001b[43m,\u001b[49m\n\u001b[1;32m    535\u001b[0m \u001b[43m    \u001b[49m\u001b[38;5;241;43m*\u001b[39;49m\u001b[38;5;241;43m*\u001b[39;49m\u001b[43mkwargs\u001b[49m\u001b[43m,\u001b[49m\n\u001b[1;32m    536\u001b[0m \u001b[43m\u001b[49m\u001b[43m)\u001b[49m\n\u001b[1;32m    537\u001b[0m ds \u001b[38;5;241m=\u001b[39m _dataset_from_backend_dataset(\n\u001b[1;32m    538\u001b[0m     backend_ds,\n\u001b[1;32m    539\u001b[0m     filename_or_obj,\n\u001b[0;32m   (...)\u001b[0m\n\u001b[1;32m    547\u001b[0m     \u001b[38;5;241m*\u001b[39m\u001b[38;5;241m*\u001b[39mkwargs,\n\u001b[1;32m    548\u001b[0m )\n\u001b[1;32m    549\u001b[0m \u001b[38;5;28;01mreturn\u001b[39;00m ds\n",
      "File \u001b[0;32m~/.pyenv/versions/3.9.9/envs/darwin/lib/python3.9/site-packages/xarray/backends/netCDF4_.py:555\u001b[0m, in \u001b[0;36mNetCDF4BackendEntrypoint.open_dataset\u001b[0;34m(self, filename_or_obj, mask_and_scale, decode_times, concat_characters, decode_coords, drop_variables, use_cftime, decode_timedelta, group, mode, format, clobber, diskless, persist, lock, autoclose)\u001b[0m\n\u001b[1;32m    534\u001b[0m \u001b[38;5;28;01mdef\u001b[39;00m \u001b[38;5;21mopen_dataset\u001b[39m(\n\u001b[1;32m    535\u001b[0m     \u001b[38;5;28mself\u001b[39m,\n\u001b[1;32m    536\u001b[0m     filename_or_obj,\n\u001b[0;32m   (...)\u001b[0m\n\u001b[1;32m    551\u001b[0m     autoclose\u001b[38;5;241m=\u001b[39m\u001b[38;5;28;01mFalse\u001b[39;00m,\n\u001b[1;32m    552\u001b[0m ):\n\u001b[1;32m    554\u001b[0m     filename_or_obj \u001b[38;5;241m=\u001b[39m _normalize_path(filename_or_obj)\n\u001b[0;32m--> 555\u001b[0m     store \u001b[38;5;241m=\u001b[39m \u001b[43mNetCDF4DataStore\u001b[49m\u001b[38;5;241;43m.\u001b[39;49m\u001b[43mopen\u001b[49m\u001b[43m(\u001b[49m\n\u001b[1;32m    556\u001b[0m \u001b[43m        \u001b[49m\u001b[43mfilename_or_obj\u001b[49m\u001b[43m,\u001b[49m\n\u001b[1;32m    557\u001b[0m \u001b[43m        \u001b[49m\u001b[43mmode\u001b[49m\u001b[38;5;241;43m=\u001b[39;49m\u001b[43mmode\u001b[49m\u001b[43m,\u001b[49m\n\u001b[1;32m    558\u001b[0m \u001b[43m        \u001b[49m\u001b[38;5;28;43mformat\u001b[39;49m\u001b[38;5;241;43m=\u001b[39;49m\u001b[38;5;28;43mformat\u001b[39;49m\u001b[43m,\u001b[49m\n\u001b[1;32m    559\u001b[0m \u001b[43m        \u001b[49m\u001b[43mgroup\u001b[49m\u001b[38;5;241;43m=\u001b[39;49m\u001b[43mgroup\u001b[49m\u001b[43m,\u001b[49m\n\u001b[1;32m    560\u001b[0m \u001b[43m        \u001b[49m\u001b[43mclobber\u001b[49m\u001b[38;5;241;43m=\u001b[39;49m\u001b[43mclobber\u001b[49m\u001b[43m,\u001b[49m\n\u001b[1;32m    561\u001b[0m \u001b[43m        \u001b[49m\u001b[43mdiskless\u001b[49m\u001b[38;5;241;43m=\u001b[39;49m\u001b[43mdiskless\u001b[49m\u001b[43m,\u001b[49m\n\u001b[1;32m    562\u001b[0m \u001b[43m        \u001b[49m\u001b[43mpersist\u001b[49m\u001b[38;5;241;43m=\u001b[39;49m\u001b[43mpersist\u001b[49m\u001b[43m,\u001b[49m\n\u001b[1;32m    563\u001b[0m \u001b[43m        \u001b[49m\u001b[43mlock\u001b[49m\u001b[38;5;241;43m=\u001b[39;49m\u001b[43mlock\u001b[49m\u001b[43m,\u001b[49m\n\u001b[1;32m    564\u001b[0m \u001b[43m        \u001b[49m\u001b[43mautoclose\u001b[49m\u001b[38;5;241;43m=\u001b[39;49m\u001b[43mautoclose\u001b[49m\u001b[43m,\u001b[49m\n\u001b[1;32m    565\u001b[0m \u001b[43m    \u001b[49m\u001b[43m)\u001b[49m\n\u001b[1;32m    567\u001b[0m     store_entrypoint \u001b[38;5;241m=\u001b[39m StoreBackendEntrypoint()\n\u001b[1;32m    568\u001b[0m     \u001b[38;5;28;01mwith\u001b[39;00m close_on_error(store):\n",
      "File \u001b[0;32m~/.pyenv/versions/3.9.9/envs/darwin/lib/python3.9/site-packages/xarray/backends/netCDF4_.py:384\u001b[0m, in \u001b[0;36mNetCDF4DataStore.open\u001b[0;34m(cls, filename, mode, format, group, clobber, diskless, persist, lock, lock_maker, autoclose)\u001b[0m\n\u001b[1;32m    378\u001b[0m kwargs \u001b[38;5;241m=\u001b[39m \u001b[38;5;28mdict\u001b[39m(\n\u001b[1;32m    379\u001b[0m     clobber\u001b[38;5;241m=\u001b[39mclobber, diskless\u001b[38;5;241m=\u001b[39mdiskless, persist\u001b[38;5;241m=\u001b[39mpersist, \u001b[38;5;28mformat\u001b[39m\u001b[38;5;241m=\u001b[39m\u001b[38;5;28mformat\u001b[39m\n\u001b[1;32m    380\u001b[0m )\n\u001b[1;32m    381\u001b[0m manager \u001b[38;5;241m=\u001b[39m CachingFileManager(\n\u001b[1;32m    382\u001b[0m     netCDF4\u001b[38;5;241m.\u001b[39mDataset, filename, mode\u001b[38;5;241m=\u001b[39mmode, kwargs\u001b[38;5;241m=\u001b[39mkwargs\n\u001b[1;32m    383\u001b[0m )\n\u001b[0;32m--> 384\u001b[0m \u001b[38;5;28;01mreturn\u001b[39;00m \u001b[38;5;28;43mcls\u001b[39;49m\u001b[43m(\u001b[49m\u001b[43mmanager\u001b[49m\u001b[43m,\u001b[49m\u001b[43m \u001b[49m\u001b[43mgroup\u001b[49m\u001b[38;5;241;43m=\u001b[39;49m\u001b[43mgroup\u001b[49m\u001b[43m,\u001b[49m\u001b[43m \u001b[49m\u001b[43mmode\u001b[49m\u001b[38;5;241;43m=\u001b[39;49m\u001b[43mmode\u001b[49m\u001b[43m,\u001b[49m\u001b[43m \u001b[49m\u001b[43mlock\u001b[49m\u001b[38;5;241;43m=\u001b[39;49m\u001b[43mlock\u001b[49m\u001b[43m,\u001b[49m\u001b[43m \u001b[49m\u001b[43mautoclose\u001b[49m\u001b[38;5;241;43m=\u001b[39;49m\u001b[43mautoclose\u001b[49m\u001b[43m)\u001b[49m\n",
      "File \u001b[0;32m~/.pyenv/versions/3.9.9/envs/darwin/lib/python3.9/site-packages/xarray/backends/netCDF4_.py:332\u001b[0m, in \u001b[0;36mNetCDF4DataStore.__init__\u001b[0;34m(self, manager, group, mode, lock, autoclose)\u001b[0m\n\u001b[1;32m    330\u001b[0m \u001b[38;5;28mself\u001b[39m\u001b[38;5;241m.\u001b[39m_group \u001b[38;5;241m=\u001b[39m group\n\u001b[1;32m    331\u001b[0m \u001b[38;5;28mself\u001b[39m\u001b[38;5;241m.\u001b[39m_mode \u001b[38;5;241m=\u001b[39m mode\n\u001b[0;32m--> 332\u001b[0m \u001b[38;5;28mself\u001b[39m\u001b[38;5;241m.\u001b[39mformat \u001b[38;5;241m=\u001b[39m \u001b[38;5;28;43mself\u001b[39;49m\u001b[38;5;241;43m.\u001b[39;49m\u001b[43mds\u001b[49m\u001b[38;5;241m.\u001b[39mdata_model\n\u001b[1;32m    333\u001b[0m \u001b[38;5;28mself\u001b[39m\u001b[38;5;241m.\u001b[39m_filename \u001b[38;5;241m=\u001b[39m \u001b[38;5;28mself\u001b[39m\u001b[38;5;241m.\u001b[39mds\u001b[38;5;241m.\u001b[39mfilepath()\n\u001b[1;32m    334\u001b[0m \u001b[38;5;28mself\u001b[39m\u001b[38;5;241m.\u001b[39mis_remote \u001b[38;5;241m=\u001b[39m is_remote_uri(\u001b[38;5;28mself\u001b[39m\u001b[38;5;241m.\u001b[39m_filename)\n",
      "File \u001b[0;32m~/.pyenv/versions/3.9.9/envs/darwin/lib/python3.9/site-packages/xarray/backends/netCDF4_.py:393\u001b[0m, in \u001b[0;36mNetCDF4DataStore.ds\u001b[0;34m(self)\u001b[0m\n\u001b[1;32m    391\u001b[0m \u001b[38;5;129m@property\u001b[39m\n\u001b[1;32m    392\u001b[0m \u001b[38;5;28;01mdef\u001b[39;00m \u001b[38;5;21mds\u001b[39m(\u001b[38;5;28mself\u001b[39m):\n\u001b[0;32m--> 393\u001b[0m     \u001b[38;5;28;01mreturn\u001b[39;00m \u001b[38;5;28;43mself\u001b[39;49m\u001b[38;5;241;43m.\u001b[39;49m\u001b[43m_acquire\u001b[49m\u001b[43m(\u001b[49m\u001b[43m)\u001b[49m\n",
      "File \u001b[0;32m~/.pyenv/versions/3.9.9/envs/darwin/lib/python3.9/site-packages/xarray/backends/netCDF4_.py:387\u001b[0m, in \u001b[0;36mNetCDF4DataStore._acquire\u001b[0;34m(self, needs_lock)\u001b[0m\n\u001b[1;32m    386\u001b[0m \u001b[38;5;28;01mdef\u001b[39;00m \u001b[38;5;21m_acquire\u001b[39m(\u001b[38;5;28mself\u001b[39m, needs_lock\u001b[38;5;241m=\u001b[39m\u001b[38;5;28;01mTrue\u001b[39;00m):\n\u001b[0;32m--> 387\u001b[0m     \u001b[38;5;28;01mwith\u001b[39;00m \u001b[38;5;28mself\u001b[39m\u001b[38;5;241m.\u001b[39m_manager\u001b[38;5;241m.\u001b[39macquire_context(needs_lock) \u001b[38;5;28;01mas\u001b[39;00m root:\n\u001b[1;32m    388\u001b[0m         ds \u001b[38;5;241m=\u001b[39m _nc4_require_group(root, \u001b[38;5;28mself\u001b[39m\u001b[38;5;241m.\u001b[39m_group, \u001b[38;5;28mself\u001b[39m\u001b[38;5;241m.\u001b[39m_mode)\n\u001b[1;32m    389\u001b[0m     \u001b[38;5;28;01mreturn\u001b[39;00m ds\n",
      "File \u001b[0;32m~/.pyenv/versions/3.9.9/lib/python3.9/contextlib.py:119\u001b[0m, in \u001b[0;36m_GeneratorContextManager.__enter__\u001b[0;34m(self)\u001b[0m\n\u001b[1;32m    117\u001b[0m \u001b[38;5;28;01mdel\u001b[39;00m \u001b[38;5;28mself\u001b[39m\u001b[38;5;241m.\u001b[39margs, \u001b[38;5;28mself\u001b[39m\u001b[38;5;241m.\u001b[39mkwds, \u001b[38;5;28mself\u001b[39m\u001b[38;5;241m.\u001b[39mfunc\n\u001b[1;32m    118\u001b[0m \u001b[38;5;28;01mtry\u001b[39;00m:\n\u001b[0;32m--> 119\u001b[0m     \u001b[38;5;28;01mreturn\u001b[39;00m \u001b[38;5;28;43mnext\u001b[39;49m\u001b[43m(\u001b[49m\u001b[38;5;28;43mself\u001b[39;49m\u001b[38;5;241;43m.\u001b[39;49m\u001b[43mgen\u001b[49m\u001b[43m)\u001b[49m\n\u001b[1;32m    120\u001b[0m \u001b[38;5;28;01mexcept\u001b[39;00m \u001b[38;5;167;01mStopIteration\u001b[39;00m:\n\u001b[1;32m    121\u001b[0m     \u001b[38;5;28;01mraise\u001b[39;00m \u001b[38;5;167;01mRuntimeError\u001b[39;00m(\u001b[38;5;124m\"\u001b[39m\u001b[38;5;124mgenerator didn\u001b[39m\u001b[38;5;124m'\u001b[39m\u001b[38;5;124mt yield\u001b[39m\u001b[38;5;124m\"\u001b[39m) \u001b[38;5;28;01mfrom\u001b[39;00m \u001b[38;5;28mNone\u001b[39m\n",
      "File \u001b[0;32m~/.pyenv/versions/3.9.9/envs/darwin/lib/python3.9/site-packages/xarray/backends/file_manager.py:189\u001b[0m, in \u001b[0;36mCachingFileManager.acquire_context\u001b[0;34m(self, needs_lock)\u001b[0m\n\u001b[1;32m    186\u001b[0m \u001b[38;5;129m@contextlib\u001b[39m\u001b[38;5;241m.\u001b[39mcontextmanager\n\u001b[1;32m    187\u001b[0m \u001b[38;5;28;01mdef\u001b[39;00m \u001b[38;5;21macquire_context\u001b[39m(\u001b[38;5;28mself\u001b[39m, needs_lock\u001b[38;5;241m=\u001b[39m\u001b[38;5;28;01mTrue\u001b[39;00m):\n\u001b[1;32m    188\u001b[0m     \u001b[38;5;124;03m\"\"\"Context manager for acquiring a file.\"\"\"\u001b[39;00m\n\u001b[0;32m--> 189\u001b[0m     file, cached \u001b[38;5;241m=\u001b[39m \u001b[38;5;28;43mself\u001b[39;49m\u001b[38;5;241;43m.\u001b[39;49m\u001b[43m_acquire_with_cache_info\u001b[49m\u001b[43m(\u001b[49m\u001b[43mneeds_lock\u001b[49m\u001b[43m)\u001b[49m\n\u001b[1;32m    190\u001b[0m     \u001b[38;5;28;01mtry\u001b[39;00m:\n\u001b[1;32m    191\u001b[0m         \u001b[38;5;28;01myield\u001b[39;00m file\n",
      "File \u001b[0;32m~/.pyenv/versions/3.9.9/envs/darwin/lib/python3.9/site-packages/xarray/backends/file_manager.py:207\u001b[0m, in \u001b[0;36mCachingFileManager._acquire_with_cache_info\u001b[0;34m(self, needs_lock)\u001b[0m\n\u001b[1;32m    205\u001b[0m     kwargs \u001b[38;5;241m=\u001b[39m kwargs\u001b[38;5;241m.\u001b[39mcopy()\n\u001b[1;32m    206\u001b[0m     kwargs[\u001b[38;5;124m\"\u001b[39m\u001b[38;5;124mmode\u001b[39m\u001b[38;5;124m\"\u001b[39m] \u001b[38;5;241m=\u001b[39m \u001b[38;5;28mself\u001b[39m\u001b[38;5;241m.\u001b[39m_mode\n\u001b[0;32m--> 207\u001b[0m file \u001b[38;5;241m=\u001b[39m \u001b[38;5;28;43mself\u001b[39;49m\u001b[38;5;241;43m.\u001b[39;49m\u001b[43m_opener\u001b[49m\u001b[43m(\u001b[49m\u001b[38;5;241;43m*\u001b[39;49m\u001b[38;5;28;43mself\u001b[39;49m\u001b[38;5;241;43m.\u001b[39;49m\u001b[43m_args\u001b[49m\u001b[43m,\u001b[49m\u001b[43m \u001b[49m\u001b[38;5;241;43m*\u001b[39;49m\u001b[38;5;241;43m*\u001b[39;49m\u001b[43mkwargs\u001b[49m\u001b[43m)\u001b[49m\n\u001b[1;32m    208\u001b[0m \u001b[38;5;28;01mif\u001b[39;00m \u001b[38;5;28mself\u001b[39m\u001b[38;5;241m.\u001b[39m_mode \u001b[38;5;241m==\u001b[39m \u001b[38;5;124m\"\u001b[39m\u001b[38;5;124mw\u001b[39m\u001b[38;5;124m\"\u001b[39m:\n\u001b[1;32m    209\u001b[0m     \u001b[38;5;66;03m# ensure file doesn't get overridden when opened again\u001b[39;00m\n\u001b[1;32m    210\u001b[0m     \u001b[38;5;28mself\u001b[39m\u001b[38;5;241m.\u001b[39m_mode \u001b[38;5;241m=\u001b[39m \u001b[38;5;124m\"\u001b[39m\u001b[38;5;124ma\u001b[39m\u001b[38;5;124m\"\u001b[39m\n",
      "File \u001b[0;32msrc/netCDF4/_netCDF4.pyx:2463\u001b[0m, in \u001b[0;36mnetCDF4._netCDF4.Dataset.__init__\u001b[0;34m()\u001b[0m\n",
      "File \u001b[0;32msrc/netCDF4/_netCDF4.pyx:2026\u001b[0m, in \u001b[0;36mnetCDF4._netCDF4._ensure_nc_success\u001b[0;34m()\u001b[0m\n",
      "\u001b[0;31mFileNotFoundError\u001b[0m: [Errno 2] No such file or directory: b'/home/ben/data/GAR/rc_trop_ls/products/rc_trop_ls_d10km_d_2d_et_2022.nc'"
     ]
    }
   ],
   "source": [
    "ds = open_dataset(\n",
    "    'rc_trop_ls/products/rc_trop_ls_d10km_d_2d_et_2022.nc',\n",
    ")\n",
    "minas_rojas = find_lonlat(ds, \"et\", -90.3673, -0.618625)\n",
    "# selected = ds.isel(west_east=minas_rojas[0], south_north=minas_rojas[1])\n",
    "# selected = select_lonlat(ds, -90.3673, -0.618625)\n",
    "minas_rojas.index = pd.DatetimeIndex(pd.date_range('2022-04-01','2022-06-30'))\n",
    "minas_rojas.plot()"
   ]
  },
  {
   "cell_type": "code",
   "execution_count": null,
   "id": "c20f97b9-e6f5-40e5-91d0-6979fe85e93f",
   "metadata": {},
   "outputs": [],
   "source": [
    "ds = open_dataset(\n",
    "    'rc_trop_ls_d10km_d_2d_t2_2017.nc',\n",
    ")\n",
    "ds.t2.data = ds.t2.data - 273.15\n",
    "ds[\"t2\"] = ds.t2.mean(dim='time', skipna=True, keep_attrs=True)\n",
    "fig, ax = plt.subplots(figsize=(12, 10))\n",
    "plt.title('t2')\n",
    "ds.t2.salem.quick_map(ax=ax, cmap=color_map)\n",
    "plt.show()"
   ]
  },
  {
   "cell_type": "code",
   "execution_count": null,
   "id": "23a3e1ce-0964-48cc-8281-19a4a9a959d7",
   "metadata": {},
   "outputs": [],
   "source": [
    "ds = open_dataset(\n",
    "    'rc_trop_ls/products/d02/d/2d/rc_trop_ls_d10km_d_2d_ws10_2022.nc',\n",
    "    proj_string\n",
    ")\n",
    "ds.ws10.data = ds.ws10.data\n",
    "ds[\"ws10\"] = ds.ws10.mean(dim='time', skipna=True, keep_attrs=True)\n",
    "fig, ax = plt.subplots(figsize=(12, 10))\n",
    "plt.title('ws10')\n",
    "ds.ws10.salem.quick_map(ax=ax, cmap=color_map)\n",
    "plt.show()"
   ]
  },
  {
   "cell_type": "code",
   "execution_count": null,
   "id": "ca430007-28ab-4bb0-a08f-55a540e50729",
   "metadata": {},
   "outputs": [],
   "source": [
    "ds = open_dataset(\n",
    "    'rc_trop_ls/products/d02/d/2d/rc_trop_ls_d10km_d_2d_v10_2022.nc',\n",
    "    proj_string\n",
    ")\n",
    "ds[\"v10\"] = ds.v10.mean(dim='time', skipna=True, keep_attrs=True)\n",
    "fig, ax = plt.subplots(figsize=(12, 10))\n",
    "plt.title('v10')\n",
    "ds.v10.salem.quick_map(ax=ax, cmap=color_map)\n",
    "plt.show()"
   ]
  },
  {
   "cell_type": "code",
   "execution_count": null,
   "id": "d44272ff-e999-4abb-b4f8-9dc2fedc34af",
   "metadata": {},
   "outputs": [],
   "source": [
    "ds = open_dataset(\n",
    "    'rc_trop_ls/products/d02/d/2d/rc_trop_ls_d10km_d_2d_prcp_2022.nc',\n",
    "    proj_string\n",
    ")\n",
    "ds.prcp.data = ds.prcp.data\n",
    "ds[\"prcp\"] = ds.prcp.sum(dim='time', skipna=True, keep_attrs=True)\n",
    "fig, ax = plt.subplots(figsize=(12, 10))\n",
    "ds.prcp.salem.quick_map(ax=ax, cmap=color_map)\n",
    "plt.show()"
   ]
  },
  {
   "cell_type": "code",
   "execution_count": null,
   "id": "70d3991d-1a8b-4f8e-ba1d-08791186eb12",
   "metadata": {},
   "outputs": [],
   "source": [
    "\n",
    "ds = open_dataset(\n",
    "    'rc_trop_ls/products/d02/d/2d/rc_trop_ls_d10km_d_2d_prcp_2022.nc',\n",
    "    proj_string\n",
    ")\n",
    "fig, ax = plt.subplots(figsize=(12, 10))\n",
    "ds[\"prcp\"] = ds.prcp.sum(dim='time', skipna=True, keep_attrs=True)\n",
    "# mask_all_touched = ds.prcp.salem.roi(shape=oceans, all_touched=True)\n",
    "mask_all_touched = ds.prcp.salem.roi(shape=oceans, corners=((-91.8, -1.5), (-89, 1)), all_touched=True)\n",
    "ds[\"prcp\"].data = mask_all_touched\n",
    "ds.prcp.salem.quick_map(ax=ax, cmap=color_map)\n",
    "plt.tight_layout()\n",
    "plt.show()"
   ]
  },
  {
   "cell_type": "code",
   "execution_count": null,
   "id": "fe50aae2-3871-4fa1-b806-39dc80539f05",
   "metadata": {},
   "outputs": [],
   "source": [
    "ds = open_dataset(\n",
    "    'rc_trop_ls/products/d02/d/2d/rc_trop_ls_d10km_d_2d_q2_2022.nc',\n",
    "    proj_string\n",
    ")\n",
    "ds[\"q2\"] = ds.q2.mean(dim='time', skipna=True, keep_attrs=True)\n",
    "fig, ax = plt.subplots(figsize=(12, 10))\n",
    "mask_all_touched = ds.q2.salem.roi(shape=oceans, all_touched=True)\n",
    "ds[\"q2\"].data = mask_all_touched\n",
    "ds.q2.salem.quick_map(ax=ax, cmap=color_map)"
   ]
  },
  {
   "cell_type": "code",
   "execution_count": null,
   "id": "662ddcc6-6658-4a51-bdb7-583c768d2c73",
   "metadata": {},
   "outputs": [],
   "source": [
    "ds = open_dataset(\n",
    "    'rc_trop_ls/products/d02/d/2d/rc_trop_ls_d10km_d_2d_et_2022.nc',\n",
    "    proj_string\n",
    ")\n",
    "ds[\"et\"] = ds.et.mean(dim='time', skipna=True, keep_attrs=True)\n",
    "fig, ax = plt.subplots(figsize=(12, 10))\n",
    "mask_all_touched = ds.et.salem.roi(shape=oceans, all_touched=True)\n",
    "ds[\"et\"].data = mask_all_touched\n",
    "ds.et.salem.quick_map(ax=ax, cmap=color_map)"
   ]
  },
  {
   "cell_type": "code",
   "execution_count": null,
   "id": "c6198784-d346-4f56-99a0-1e0d97f84517",
   "metadata": {},
   "outputs": [],
   "source": [
    "l_prcp = open_dataset(\n",
    "    'rc_trop_l/products/d02/d/2d/rc_test_large_tropical_d10km_d02_d_2d_prcp_2017.nc',\n",
    ")\n",
    "\n",
    "m_prcp = open_dataset(\n",
    "    'rc_trop/products/d02/d/2d/rc_trop_d10km_d02_d_2d_prcp_2017.nc',\n",
    ")\n",
    "\n",
    "s_prcp = open_dataset(\n",
    "    'rc_trop_s/products/d02/d/2d/rc_trop_s_d10km_d02_d_2d_prcp_2017.nc',\n",
    ")\n",
    "ls_prcp = open_dataset(\n",
    "    'rc_trop_ls_d10km_d_2d_prcp_2017.nc',\n",
    ")\n",
    "ls43_prcp = open_dataset(\n",
    "    'rc_trop_ls_vert43_d10km_d_2d_prcp_2017.nc'\n",
    ")"
   ]
  },
  {
   "cell_type": "code",
   "execution_count": null,
   "id": "1e8b8a67-3be4-410a-9f2e-ecb39ea957bf",
   "metadata": {},
   "outputs": [],
   "source": [
    "fig, ax = plt.subplots(figsize=(16,8))\n",
    "mask_all_touched = l_prcp.prcp.salem.roi(shape=oceans, all_touched=True)\n",
    "mask_all_touched.mean(axis=(1,2)).cumsum().plot(ax=ax, label=\"L  - 43 vertical levels\")\n",
    "# l_prcp.prcp.sum(axis=(1,2)).cumsum().plot(ax=ax, label=\"large prcp\")\n",
    "mask_all_touched = m_prcp.prcp.salem.roi(shape=oceans, all_touched=True)\n",
    "mask_all_touched.mean(axis=(1,2)).cumsum().plot(ax=ax, label=\"M - 43 vertical levels\")\n",
    "# m_prcp.prcp.sum(axis=(1,2)).cumsum().plot(ax=ax, label=\"medium prcp\")\n",
    "mask_all_touched = s_prcp.prcp.salem.roi(shape=oceans, all_touched=True)\n",
    "mask_all_touched.mean(axis=(1,2)).cumsum().plot(ax=ax, label=\"S - 43 vertical levels\")\n",
    "# s_prcp.prcp.sum(axis=(1,2)).cumsum().plot(ax=ax, label=\"small prcp\")\n",
    "mask_all_touched = ls43_prcp.prcp.salem.roi(shape=oceans, all_touched=True)\n",
    "mask_all_touched.mean(axis=(1,2)).cumsum().plot(ax=ax, label=\"LS - 43 vertical levels\")\n",
    "mask_all_touched = ls_prcp.prcp.salem.roi(shape=oceans, all_touched=True)\n",
    "mask_all_touched.mean(axis=(1,2)).cumsum().plot(ax=ax, label=\"LS - 28 vertical levels\")\n",
    "#\n",
    "plt.ylabel('average precipitation per grid point im mm')\n",
    "ax.legend()\n",
    "plt.savefig(\"domain_sizes_prcp_land.png\")\n",
    "plt.show()"
   ]
  },
  {
   "cell_type": "code",
   "execution_count": null,
   "id": "65ebb75c-c189-4c4d-b7da-36cbf1fb16b2",
   "metadata": {},
   "outputs": [],
   "source": [
    "# plot land cover static data\n",
    "lu_index = open_dataset(\n",
    "    'rc_trop_l/products/d10km_d02/static/rc_test_large_tropical_d10km_d02_static_lu_index.nc',\n",
    "    '+proj=merc +lat_0=2 +lon_0=-90.3 +k=1 +x_0=0 +y_0=00 +ellps=WGS84 +datum=WGS84 +units=m +no_defs'\n",
    ")\n",
    "lu_index.lu_index.data[lu_index.lu_index.data == 16] = np.nan\n",
    "\n",
    "lu_index.lu_index.plot(cmap='Set1', figsize=(12,10))\n",
    "plt.savefig('lu_index.png')"
   ]
  },
  {
   "cell_type": "code",
   "execution_count": null,
   "id": "1bec4350-c375-4535-ab14-27a131833361",
   "metadata": {},
   "outputs": [],
   "source": [
    "v10_l = open_dataset(\n",
    "    'rc_trop_l/products/d10km_d02/y/2d/rc_test_large_tropical_d10km_d02_y_2d_v10_2017.nc',\n",
    "    '+proj=merc +lat_0=2 +lon_0=-90.3 +k=1 +x_0=0 +y_0=00 +ellps=WGS84 +datum=WGS84 +units=m +no_defs'\n",
    ")\n",
    "v10_m = open_dataset(\n",
    "    'rc_trop/products/d10km_d02/y/2d/rc_trop_d10km_d02_y_2d_v10_2017.nc',\n",
    "    '+proj=merc +lat_0=2 +lon_0=-90.3 +k=1 +x_0=0 +y_0=00 +ellps=WGS84 +datum=WGS84 +units=m +no_defs'\n",
    ")\n",
    "v10_s = open_dataset(\n",
    "    'rc_trop_s/products/d02/y/2d/rc_trop_s_d10km_d02_y_2d_v10_2017.nc',\n",
    "    '+proj=merc +lat_0=2 +lon_0=-90.22 +k=1 +x_0=0 +y_0=00 +ellps=WGS84 +datum=WGS84 +units=m +no_defs'\n",
    ")\n",
    "v10_m = v10_m.v10.salem.subset(grid=v10_s.v10.salem.grid)\n",
    "v10_l = v10_l.v10.salem.subset(grid=v10_s.v10.salem.grid)\n",
    "fig, [ax1, ax2, ax3] = plt.subplots(1, 3, figsize=(18, 12))\n",
    "plt.tight_layout()\n",
    "v10_s.v10.salem.quick_map(ax=ax3, cmap='RdBu', vmin=-2, vmax=5.5)\n",
    "v10_m.salem.quick_map(ax=ax2, cmap='RdBu', vmin=-2, vmax=5.5)\n",
    "v10_l.salem.quick_map(ax=ax1, cmap='RdBu', vmin=-2, vmax=5.5)\n",
    "plt.tight_layout()\n",
    "plt.savefig('v10_domains.png')\n",
    "plt.show()"
   ]
  },
  {
   "cell_type": "code",
   "execution_count": null,
   "id": "e926dc2e-714e-4957-a67b-77d9ad82a748",
   "metadata": {},
   "outputs": [],
   "source": [
    "v10_l_s = open_dataset(\n",
    "    'rc_trop_s/products/d02/y/2d/rc_trop_s_d10km_d02_y_2d_v10_2017.nc',\n",
    "    '+proj=merc +lat_0=2 +lon_0=-90.22 +k=1 +x_0=0 +y_0=00 +ellps=WGS84 +datum=WGS84 +units=m +no_defs'\n",
    ")\n",
    "v10_m_s = open_dataset(\n",
    "    'rc_trop_s/products/d02/y/2d/rc_trop_s_d10km_d02_y_2d_v10_2017.nc',\n",
    "    '+proj=merc +lat_0=2 +lon_0=-90.22 +k=1 +x_0=0 +y_0=00 +ellps=WGS84 +datum=WGS84 +units=m +no_defs'\n",
    ")\n",
    "v10_l_s.v10.data = (v10_l.data - v10_s.v10.data)\n",
    "v10_m_s.v10.data = (v10_m.data - v10_s.v10.data)\n",
    "fig, [ax1, ax2] = plt.subplots(1, 2, figsize=(18, 12))\n",
    "v10_l_s.v10.salem.quick_map(ax=ax1, cmap='RdBu', vmin=-2.7, vmax=2.7)\n",
    "v10_m_s.v10.salem.quick_map(ax=ax2, cmap='RdBu', vmin=-2.7, vmax=2.7)\n",
    "plt.tight_layout()\n",
    "plt.savefig('v10_compare.png')\n",
    "plt.show()"
   ]
  },
  {
   "cell_type": "code",
   "execution_count": null,
   "id": "9f36cd2b-6152-48ab-be21-b9dbcc27e7c3",
   "metadata": {},
   "outputs": [],
   "source": [
    "ws_l = open_dataset(\n",
    "    'rc_trop_l/products/d10km_d02/y/2d/rc_test_large_tropical_d10km_d02_y_2d_ws_2017.nc',\n",
    "    '+proj=merc +lat_0=2 +lon_0=-90.3 +k=1 +x_0=0 +y_0=00 +ellps=WGS84 +datum=WGS84 +units=m +no_defs'\n",
    ")\n",
    "ws_m = open_dataset(\n",
    "    'rc_trop/products/d10km_d02/y/2d/rc_trop_d10km_d02_y_2d_ws_2017.nc',\n",
    "    '+proj=merc +lat_0=2 +lon_0=-90.3 +k=1 +x_0=0 +y_0=00 +ellps=WGS84 +datum=WGS84 +units=m +no_defs'\n",
    ")\n",
    "ws_s = open_dataset(\n",
    "    'rc_trop_s/products/d02/y/2d/rc_trop_s_d10km_d02_y_2d_ws_2017.nc',\n",
    "    '+proj=merc +lat_0=2 +lon_0=-90.22 +k=1 +x_0=0 +y_0=00 +ellps=WGS84 +datum=WGS84 +units=m +no_defs'\n",
    ")\n",
    "ws_m = ws_m.ws.salem.subset(grid=ws_s.ws.salem.grid)\n",
    "ws_l = ws_l.ws.salem.subset(grid=ws_s.ws.salem.grid)\n",
    "fig, [ax1, ax2, ax3] = plt.subplots(1, 3, figsize=(18, 12))\n",
    "plt.tight_layout()\n",
    "ws_s.ws.salem.quick_map(ax=ax3, cmap='RdBu', vmin=-5.5, vmax=3, )\n",
    "ws_m.salem.quick_map(ax=ax2, cmap='RdBu', vmin=-5.5, vmax=3)\n",
    "ws_l.salem.quick_map(ax=ax1, cmap='RdBu', vmin=-5.5, vmax=3)\n",
    "plt.tight_layout()\n",
    "plt.savefig('ws_domains.png')\n",
    "plt.show()"
   ]
  },
  {
   "cell_type": "code",
   "execution_count": null,
   "id": "3bf26955-c483-4ffa-9066-a849bde35f2c",
   "metadata": {},
   "outputs": [],
   "source": [
    "ws_l_s = open_dataset(\n",
    "    'rc_trop_s/products/d02/y/2d/rc_trop_s_d10km_d02_y_2d_ws_2017.nc',\n",
    "    '+proj=merc +lat_0=2 +lon_0=-90.22 +k=1 +x_0=0 +y_0=00 +ellps=WGS84 +datum=WGS84 +units=m +no_defs'\n",
    ")\n",
    "ws_m_s = open_dataset(\n",
    "    'rc_trop_s/products/d02/y/2d/rc_trop_s_d10km_d02_y_2d_ws_2017.nc',\n",
    "    '+proj=merc +lat_0=2 +lon_0=-90.22 +k=1 +x_0=0 +y_0=00 +ellps=WGS84 +datum=WGS84 +units=m +no_defs'\n",
    ")\n",
    "ws_l_s.ws.data = (ws_l.data - ws_s.ws.data)\n",
    "ws_m_s.ws.data = (ws_m.data - ws_s.ws.data)\n",
    "fig, [ax1, ax2] = plt.subplots(1, 2, figsize=(18, 12))\n",
    "ws_l_s.ws.salem.quick_map(ax=ax1, cmap='RdBu', vmin=-2.7, vmax=2.7)\n",
    "ws_m_s.ws.salem.quick_map(ax=ax2, cmap='RdBu', vmin=-2.7, vmax=2.7)\n",
    "plt.tight_layout()\n",
    "plt.savefig('ws_compare.png')\n",
    "plt.show()"
   ]
  },
  {
   "cell_type": "code",
   "execution_count": null,
   "id": "5fbd8cd5-8c97-44d3-a65e-af3f4a29ffe1",
   "metadata": {},
   "outputs": [],
   "source": [
    "ws_l = open_dataset(\n",
    "    'rc_trop_l/products/d10km_d02/y/2d/rc_test_large_tropical_d10km_d02_y_2d_ws_2017.nc',\n",
    "    '+proj=merc +lat_0=2 +lon_0=-90.3 +k=1 +x_0=0 +y_0=00 +ellps=WGS84 +datum=WGS84 +units=m +no_defs'\n",
    ")\n",
    "ws_m = open_dataset(\n",
    "    'rc_trop/products/d10km_d02/y/2d/rc_trop_d10km_d02_y_2d_ws_2017.nc',\n",
    "    '+proj=merc +lat_0=2 +lon_0=-90.3 +k=1 +x_0=0 +y_0=00 +ellps=WGS84 +datum=WGS84 +units=m +no_defs'\n",
    ")\n",
    "ws_s = open_dataset(\n",
    "    'rc_trop_s/products/d02/y/2d/rc_trop_s_d10km_d02_y_2d_ws_2017.nc',\n",
    "    '+proj=merc +lat_0=2 +lon_0=-90.22 +k=1 +x_0=0 +y_0=00 +ellps=WGS84 +datum=WGS84 +units=m +no_defs'\n",
    ")\n",
    "ws_l.ws.data = ws_l.ws.data * 24 * 365\n",
    "ws_m.ws.data = ws_m.ws.data * 24 * 365\n",
    "ws_s.ws.data = ws_s.ws.data * 24 * 365\n",
    "ws_m = ws_m.ws.salem.subset(grid=ws_s.ws.salem.grid)\n",
    "ws_l = ws_l.ws.salem.subset(grid=ws_s.ws.salem.grid)\n",
    "fig, [ax1, ax2, ax3] = plt.subplots(1, 3, figsize=(18, 12))\n",
    "plt.tight_layout()\n",
    "ws_s.ws.salem.quick_map(ax=ax3, cmap='Blues', vmin=0, vmax=0.7 * 24 * 365, )\n",
    "ws_m.salem.quick_map(ax=ax2, cmap='Blues', vmin=0, vmax=0.7 * 24 * 365)\n",
    "ws_l.salem.quick_map(ax=ax1, cmap='Blues', vmin=0, vmax=0.7 * 24 * 365)\n",
    "plt.tight_layout()\n",
    "plt.savefig('ws_domains.png')\n",
    "plt.show()"
   ]
  },
  {
   "cell_type": "code",
   "execution_count": null,
   "id": "079444c0-8eaf-47c8-a070-20b2381d4db0",
   "metadata": {},
   "outputs": [],
   "source": [
    "ws_l_s = open_dataset(\n",
    "    'rc_trop_s/products/d02/y/2d/rc_trop_s_d10km_d02_y_2d_ws_2017.nc',\n",
    "    '+proj=merc +lat_0=2 +lon_0=-90.22 +k=1 +x_0=0 +y_0=00 +ellps=WGS84 +datum=WGS84 +units=m +no_defs'\n",
    ")\n",
    "ws_m_s = open_dataset(\n",
    "    'rc_trop_s/products/d02/y/2d/rc_trop_s_d10km_d02_y_2d_ws_2017.nc',\n",
    "    '+proj=merc +lat_0=2 +lon_0=-90.22 +k=1 +x_0=0 +y_0=00 +ellps=WGS84 +datum=WGS84 +units=m +no_defs'\n",
    ")\n",
    "ws_l_s.ws.data = (ws_l.data - ws_s.ws.data)\n",
    "ws_m_s.ws.data = (ws_m.data - ws_s.ws.data)\n",
    "fig, [ax1, ax2] = plt.subplots(1, 2, figsize=(18, 12))\n",
    "ws_l_s.ws.salem.quick_map(ax=ax1, cmap='bwr', vmin=-.21 * 24 * 365, vmax=.21 * 24 * 365)\n",
    "ws_m_s.ws.salem.quick_map(ax=ax2, cmap='bwr', vmin=-.21 * 24 * 365, vmax=.21 * 24 * 365)\n",
    "plt.tight_layout()\n",
    "plt.savefig('ws_compare.png')\n",
    "plt.show()"
   ]
  },
  {
   "cell_type": "code",
   "execution_count": null,
   "id": "9a935974-9ecd-4406-ac90-704f45da10c9",
   "metadata": {},
   "outputs": [],
   "source": [
    "ws_l.sel(pressure=500)"
   ]
  },
  {
   "cell_type": "code",
   "execution_count": null,
   "id": "e9cbd0da-0b6f-499f-a1a6-9d66b61da04e",
   "metadata": {},
   "outputs": [],
   "source": [
    "ws_l = open_dataset(\n",
    "    'rc_trop_l/products/d10km_d02/y/3d_press/rc_trop_l_d10km_d02_y_3d_press_ws_2017.nc',\n",
    "    '+proj=merc +lat_0=2 +lon_0=-90.3 +k=1 +x_0=0 +y_0=00 +ellps=WGS84 +datum=WGS84 +units=m +no_defs'\n",
    ")\n",
    "ws_m = open_dataset(\n",
    "    'rc_trop/products/d10km_d02/y/3d_press/rc_trop_d10km_d02_y_3d_press_ws_2017.nc',\n",
    "    '+proj=merc +lat_0=2 +lon_0=-90.3 +k=1 +x_0=0 +y_0=00 +ellps=WGS84 +datum=WGS84 +units=m +no_defs'\n",
    ")\n",
    "ws_s = open_dataset(\n",
    "    'rc_trop_s/products/d02/y/3d_press/rc_trop_s_d10km_d02_y_3d_press_ws_2017.nc',\n",
    "    '+proj=merc +lat_0=2 +lon_0=-90.22 +k=1 +x_0=0 +y_0=00 +ellps=WGS84 +datum=WGS84 +units=m +no_defs'\n",
    ")\n",
    "ws_l = ws_l.sel(pressure=800)\n",
    "ws_m = ws_m.sel(pressure=800)\n",
    "ws_s = ws_s.sel(pressure=800)\n",
    "ws_m = ws_m.ws.salem.subset(grid=ws_s.ws.salem.grid)\n",
    "ws_l = ws_l.ws.salem.subset(grid=ws_s.ws.salem.grid)\n",
    "fig, [ax1, ax2, ax3] = plt.subplots(1, 3, figsize=(18, 12))\n",
    "plt.tight_layout()\n",
    "ws_s.ws.salem.quick_map(ax=ax3, cmap='viridis', vmin = 4, vmax = 7.4)\n",
    "ws_m.salem.quick_map(ax=ax2, cmap='viridis', vmin = 4, vmax = 7.4)\n",
    "ws_l.salem.quick_map(ax=ax1, cmap='viridis', vmin = 4, vmax = 7.4)\n",
    "plt.tight_layout()\n",
    "plt.savefig('ws_domains.png')\n",
    "plt.show()"
   ]
  },
  {
   "cell_type": "code",
   "execution_count": null,
   "id": "3d2fcba5-a140-472c-9105-bf1b5ec51203",
   "metadata": {},
   "outputs": [],
   "source": [
    "ws_l_s = open_dataset(\n",
    "    'rc_trop_s/products/d02/y/3d_press/rc_trop_s_d10km_d02_y_3d_press_ws_2017.nc',\n",
    "    '+proj=merc +lat_0=2 +lon_0=-90.22 +k=1 +x_0=0 +y_0=00 +ellps=WGS84 +datum=WGS84 +units=m +no_defs'\n",
    ")\n",
    "ws_m_s = open_dataset(\n",
    "    'rc_trop_s/products/d02/y/3d_press/rc_trop_s_d10km_d02_y_3d_press_ws_2017.nc',\n",
    "    '+proj=merc +lat_0=2 +lon_0=-90.22 +k=1 +x_0=0 +y_0=00 +ellps=WGS84 +datum=WGS84 +units=m +no_defs'\n",
    ")\n",
    "\n",
    "ws_l_s = ws_l_s.sel(pressure=800)\n",
    "ws_m_s = ws_m_s.sel(pressure=800)\n",
    "\n",
    "ws_l_s.ws.data = (ws_l.data - ws_s.ws.data)\n",
    "ws_m_s.ws.data = (ws_m.data - ws_s.ws.data)\n",
    "fig, [ax1, ax2] = plt.subplots(1, 2, figsize=(18, 12))\n",
    "ws_l_s.ws.salem.quick_map(ax=ax1, cmap='bwr', vmin=-1, vmax=1)\n",
    "ws_m_s.ws.salem.quick_map(ax=ax2, cmap='bwr', vmin=-1, vmax=1)\n",
    "plt.tight_layout()\n",
    "plt.savefig('ws_compare.png')\n",
    "plt.show()"
   ]
  },
  {
   "cell_type": "code",
   "execution_count": null,
   "id": "ae712182-9696-4fd4-9693-9ddcf7a49e59",
   "metadata": {},
   "outputs": [],
   "source": [
    "import os \n",
    "path_ = os.path.abspath(\".\")\n",
    "type(path_) == str"
   ]
  }
 ],
 "metadata": {
  "kernelspec": {
   "display_name": "Python 3 (ipykernel)",
   "language": "python",
   "name": "python3"
  },
  "language_info": {
   "codemirror_mode": {
    "name": "ipython",
    "version": 3
   },
   "file_extension": ".py",
   "mimetype": "text/x-python",
   "name": "python",
   "nbconvert_exporter": "python",
   "pygments_lexer": "ipython3",
   "version": "3.9.9"
  }
 },
 "nbformat": 4,
 "nbformat_minor": 5
}
