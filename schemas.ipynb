{
 "cells": [
  {
   "cell_type": "code",
   "execution_count": 7,
   "id": "dc9b12ba-526a-4817-854f-52c37559d1cc",
   "metadata": {},
   "outputs": [
    {
     "data": {
      "text/plain": [
       "<module 'darwin' from '/home/ben/projects/darwin/darwin.py'>"
      ]
     },
     "execution_count": 7,
     "metadata": {},
     "output_type": "execute_result"
    }
   ],
   "source": [
    "import salem as sa\n",
    "import xarray as xr\n",
    "from pathlib import Path\n",
    "import matplotlib.pyplot as plt\n",
    "from matplotlib.colors import LinearSegmentedColormap\n",
    "from pyproj import Proj\n",
    "import numpy as np\n",
    "import pandas as pd\n",
    "from importlib import reload\n",
    "import darwin\n",
    "reload(darwin)"
   ]
  },
  {
   "cell_type": "code",
   "execution_count": 8,
   "id": "cc7a8dcb-bc6b-4390-8db0-1d4eeb2da8ad",
   "metadata": {},
   "outputs": [],
   "source": [
    "basepath = Path('/home/ben/data/GAR/')"
   ]
  },
  {
   "cell_type": "code",
   "execution_count": 9,
   "id": "f401ffe0-d157-446b-b309-4ac9aabe8560",
   "metadata": {},
   "outputs": [],
   "source": [
    "color_map = LinearSegmentedColormap.from_list(\n",
    "    \"mycmap\",\n",
    "    [\"white\", \"steelblue\", \"c\", \"khaki\", \"orange\", \"orangered\", \"r\", \"darkred\"],\n",
    ")\n",
    "\n",
    "def plot_map(ax, ds, model, cmap, scalebar=False):\n",
    "    smap = ds.salem.get_map(data=model, cmap=cmap, vmin=0, vmax=1020)\n",
    "    x, y = smap.grid.transform(lons, lats)\n",
    "    smap.set_shapefile(countries=False)\n",
    "    smap.set_lonlat_contours(xinterval=1)\n",
    "    if scalebar:\n",
    "        smap.set_scale_bar(location=(0.85, 0.08))\n",
    "    smap.visualize(addcbar=False)\n",
    "    return smap"
   ]
  },
  {
   "cell_type": "code",
   "execution_count": 10,
   "id": "2d89db94-501c-470c-a3a9-eb1981627d9b",
   "metadata": {},
   "outputs": [],
   "source": [
    "def remove_nonalphanumerics(string: str) -> str:\n",
    "    return \"\".join(ch for ch in string if ch.isalnum())"
   ]
  },
  {
   "cell_type": "code",
   "execution_count": 11,
   "id": "c84b628b-4d44-45c9-b2d4-7f696fe1660c",
   "metadata": {},
   "outputs": [
    {
     "data": {
      "text/plain": [
       "<salem.Grid>\n",
       "  proj: +datum=WGS84 +k=0.9996 +lat_0=0 +lon_0=-90 +no_defs+proj=tmerc +units=m +x_0=0 +y_0=0\n",
       "  pixel_ref: corner\n",
       "  origin: lower-left\n",
       "  (nx, ny): (600, 600)\n",
       "  (dx, dy): (166.66666666666666, 166.66666666666666)\n",
       "  (x0, y0): (-50000.0, -50000.0)"
      ]
     },
     "execution_count": 11,
     "metadata": {},
     "output_type": "execute_result"
    }
   ],
   "source": [
    "grid = sa.mercator_grid(center_ll=(-90, 0), extent=(100000, 100000))\n",
    "oceans = sa.read_shapefile(sa.get_demo_file('ne_50m_ocean.shp'),\n",
    "                              cached=True)\n",
    "grid"
   ]
  },
  {
   "cell_type": "code",
   "execution_count": 13,
   "id": "3b6322c6-7309-471e-8b8b-a0494eaa6110",
   "metadata": {},
   "outputs": [
    {
     "name": "stdout",
     "output_type": "stream",
     "text": [
      "Getting variable name translations\n",
      "Adding measurements to dataset\n",
      "Getting variable name translations\n",
      "Adding measurements to dataset\n",
      "Getting variable name translations\n",
      "Adding measurements to dataset\n",
      "Getting variable name translations\n",
      "Adding measurements to dataset\n",
      "Getting variable name translations\n",
      "Adding measurements to dataset\n",
      "Getting variable name translations\n",
      "Adding measurements to dataset\n",
      "Getting variable name translations\n",
      "Adding measurements to dataset\n",
      "Getting variable name translations\n",
      "Adding measurements to dataset\n",
      "Getting variable name translations\n",
      "Adding measurements to dataset\n",
      "Getting variable name translations\n",
      "Adding measurements to dataset\n"
     ]
    }
   ],
   "source": [
    "reload(darwin)\n",
    "datasets = {}\n",
    "var = 'prcp'\n",
    "paths = {\n",
    "    'tropical': f'rc_trop_ls_tutorial/rc_trop_ls_tutorial_d02km_d_2d_{var}_2022.nc',\n",
    "    'Kain-Fritsch (KF)': f'rc_trop_ls_KF/rc_trop_ls_KF_d02km_d_2d_{var}_2022.nc',\n",
    "    'KF with kfeta-trigger': f'rc_trop_ls_KF_kfeta-trigger/rc_trop_ls_KF_kfeta-trigger_d02km_d_2d_{var}_2022.nc',\n",
    "    'KF Cumulus Potential': f'rc_trop_ls_KFCuP/rc_trop_ls_KFCuP_d02km_d_2d_{var}_2022.nc',\n",
    "    'Grell 3D': f'rc_trop_ls_G3D/rc_trop_ls_G3D_d02km_d_2d_{var}_2022.nc',\n",
    "    'Thompson': f'rc_trop_ls_TG/rc_trop_ls_TG_d02km_d_2d_{var}_2022.nc',\n",
    "    'MYNN': f'rc_trop_ls_MYNN/rc_trop_ls_MYNN_d02km_d_2d_{var}_2022.nc',\n",
    "    'MYNN-TG': f'rc_trop_ls_MYNN-TG/rc_trop_ls_MYNN-TG_d02km_d_2d_{var}_2022.nc',\n",
    "    'KF-TG': f'rc_trop_ls_KF-TG/rc_trop_ls_KF-TG_d02km_d_2d_{var}_2022.nc',\n",
    "    'KF-TG-MM5': f'rc_trop_ls_KF-TG-bpl/rc_trop_ls_KF-TG-bpl_d02km_d_2d_{var}_2022.nc',\n",
    "    # 'tropical': f'rc_trop_ls_vert43/rc_trop_ls_vert43_d02km_d_2d_{var}_2022.nc',\n",
    "}\n",
    "for key, value in paths.items():\n",
    "    datasets[key] = darwin.open_experiment(from_path=basepath / value)\n",
    "    datasets[key]['experiment'] = value.split('/')[0]\n",
    "    datasets[key]['wrf_product'] = datasets[key]['wrf_product'].sel(time=slice('2022-04-01', '2022-04-30'))\n"
   ]
  },
  {
   "cell_type": "code",
   "execution_count": null,
   "id": "814af43d-9a39-4f56-9425-b5221644e5ea",
   "metadata": {},
   "outputs": [],
   "source": [
    "reload(darwin)\n",
    "aggregation='mean'\n",
    "\n",
    "for index, key in enumerate(datasets):\n",
    "    fig, ax = plt.subplots(figsize=(6,5), sharex=True, sharey=True, )\n",
    "    ds = datasets[key].copy()\n",
    "    ds['wrf_product'] = ds.remove_boundaries(20)\n",
    "    ds['experiment']\n",
    "    ds.plot_map(ax=ax, aggregation=aggregation, save=False, stations=False, cbar=True, unit='mm/d', vmax=23)\n",
    "    ax.set_title(key)\n",
    "    plt.savefig(f\"{ds.experiment}_{ds.varname.lower()}_{aggregation.lower()}_map.png\")\n",
    "    plt.show()"
   ]
  },
  {
   "cell_type": "code",
   "execution_count": null,
   "id": "47c44905-2722-490c-bce0-dd41f423bac3",
   "metadata": {},
   "outputs": [],
   "source": [
    "fig, ax = plt.subplots(figsize=(16,8))\n",
    "\n",
    "for index, key in enumerate(datasets):\n",
    "    ds = datasets[key].wrf_product.prcp.salem.roi(shape=oceans, all_touched=False)\n",
    "    ax.plot(ds.time, (24 * ds.mean(axis=(1,2)).cumsum()), label=key)\n",
    "\n",
    "ax.grid()\n",
    "ax.set_ylabel('precipitation over land in mm')\n",
    "plt.tight_layout()\n",
    "plt.legend()\n",
    "plt.savefig(\"schemata_prcp-land_cumsum.png\")\n",
    "plt.show()"
   ]
  },
  {
   "cell_type": "code",
   "execution_count": null,
   "id": "d7303c37-12f7-4fad-a4d9-b79b2dcdf61a",
   "metadata": {},
   "outputs": [],
   "source": [
    "mask_thompson = thompson.prcp.salem.roi(shape=oceans, all_touched=True)\n",
    "mask_thompson.mean(axis=(1,2)).cumsum().plot(ax=ax, label=\"Thompson Graupel\", color='magenta')\n",
    "\n",
    "mask_trop = trop.prcp.salem.roi(shape=oceans, all_touched=True)\n",
    "mask_trop.mean(axis=(1,2)).cumsum().plot(ax=ax, label=\"New Tiedtke (tropical)\", color='k')\n",
    "#\n",
    "plt.ylabel('average precipitation in mm')\n",
    "ax.legend()\n",
    "# plt.savefig(\"domain_sizes_prcp_land.png\")\n",
    "plt.show()"
   ]
  },
  {
   "cell_type": "code",
   "execution_count": null,
   "id": "10a44097-3b4c-48c3-ac8d-0d833f3c7e2a",
   "metadata": {},
   "outputs": [],
   "source": []
  },
  {
   "cell_type": "code",
   "execution_count": null,
   "id": "885e5e9a-c313-4ba7-83aa-9527f1c8cf41",
   "metadata": {},
   "outputs": [],
   "source": []
  }
 ],
 "metadata": {
  "kernelspec": {
   "display_name": "Python 3 (ipykernel)",
   "language": "python",
   "name": "python3"
  },
  "language_info": {
   "codemirror_mode": {
    "name": "ipython",
    "version": 3
   },
   "file_extension": ".py",
   "mimetype": "text/x-python",
   "name": "python",
   "nbconvert_exporter": "python",
   "pygments_lexer": "ipython3",
   "version": "3.10.4"
  }
 },
 "nbformat": 4,
 "nbformat_minor": 5
}
