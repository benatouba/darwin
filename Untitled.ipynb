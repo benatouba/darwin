{
 "cells": [
  {
   "cell_type": "code",
   "execution_count": 1,
   "id": "62fb22a8",
   "metadata": {},
   "outputs": [],
   "source": [
    "import xarray as xr\n",
    "import salem\n",
    "from glob import glob\n",
    "import numpy as np"
   ]
  },
  {
   "cell_type": "code",
   "execution_count": 2,
   "id": "d8439677",
   "metadata": {
    "scrolled": false
   },
   "outputs": [],
   "source": [
    "path=\"./data/domain_tests/first/wrfout_d02_2019-01-02*\"\n",
    "files = sorted(glob(path))\n",
    "ds = salem.open_mf_wrf_dataset(files)"
   ]
  },
  {
   "cell_type": "code",
   "execution_count": 3,
   "id": "8a8e32b4",
   "metadata": {},
   "outputs": [],
   "source": [
    "path1=\"./data/domain_tests/first/wrfout_d01_2019-01-02*\"\n",
    "files1 = sorted(glob(path1))\n",
    "ds1 = salem.open_mf_wrf_dataset(files1)"
   ]
  },
  {
   "cell_type": "code",
   "execution_count": 48,
   "id": "2fb16f09",
   "metadata": {},
   "outputs": [],
   "source": [
    "from salem import mercator_grid, Map, get_demo_file\n",
    "import matplotlib.pyplot as plt\n",
    "var = \"RAINNC\"\n",
    "filename_var = \"r-nowind\"\n",
    "long_name = \"rainfall in mm\"\n",
    "vmin = 0\n",
    "vmax = 7\n",
    "cmap = \"Blues\"\n",
    "extend='max'\n",
    "\n",
    "# ds[var].data = ds[var].data - ds[var][0].data\n",
    "data1 = ds[var].salem.deacc()\n",
    "ds1[var].data = ds1[var].data + ds1[\"RAINC\"].data\n",
    "# ds1[var].data = ds1[var].data - ds1[var][0].data\n",
    "data2 = ds1[var].salem.deacc()"
   ]
  },
  {
   "cell_type": "code",
   "execution_count": 50,
   "id": "28d00461",
   "metadata": {
    "scrolled": true
   },
   "outputs": [
    {
     "name": "stderr",
     "output_type": "stream",
     "text": [
      "/home/ben/.pyenv/versions/3.9.8/envs/darwin/lib/python3.9/site-packages/salem/graphics.py:260: RuntimeWarning: Minimum data out of bounds.\n",
      "  warnings.warn('Minimum data out of bounds.', RuntimeWarning)\n",
      "/home/ben/.pyenv/versions/3.9.8/envs/darwin/lib/python3.9/site-packages/salem/graphics.py:260: RuntimeWarning: Minimum data out of bounds.\n",
      "  warnings.warn('Minimum data out of bounds.', RuntimeWarning)\n",
      "/home/ben/.pyenv/versions/3.9.8/envs/darwin/lib/python3.9/site-packages/salem/graphics.py:260: RuntimeWarning: Minimum data out of bounds.\n",
      "  warnings.warn('Minimum data out of bounds.', RuntimeWarning)\n"
     ]
    }
   ],
   "source": [
    "from salem import mercator_grid, Map, get_demo_file\n",
    "import matplotlib.pyplot as plt\n",
    "\n",
    "for time in range(23):\n",
    "    f, ax = plt.subplots(figsize=(10, 10), layout='tight')\n",
    "    galt = ds.time.data[time].astype('datetime64[m]') - np.timedelta64(6, 'h')\n",
    "\n",
    "    grid = salem.mercator_grid(center_ll=(-90.5, -0.5), extent=(330000, 330000), nx=150, transverse=False)\n",
    "    smap = salem.Map(grid)\n",
    "    smap.set_scale_bar(location=(0.9, 0.01), add_bbox=True)\n",
    "    smap.set_lonlat_contours(interval=1, linewidths=1,\n",
    "                             linestyles='-.')\n",
    "    smap.set_shapefile(rivers=True)\n",
    "    smap.set_cmap(cmap)\n",
    "    smap.set_extend(extend)\n",
    "    smap.set_vmin(vmin)\n",
    "    smap.set_vmax(vmax)\n",
    "    \n",
    "#     u = ds.U10.isel(time=time)\n",
    "#     v = ds.V10.isel(time=time)\n",
    "\n",
    "#     u = u[5::10, 5::10]\n",
    "#     v = v[5::10, 5::10]\n",
    "\n",
    "#     xx, yy = smap.grid.transform(u.west_east.values, u.south_north.values,\n",
    "#                                  crs=grid.proj)\n",
    "#     xx, yy = np.meshgrid(xx, yy)\n",
    "#     qu = ax.quiver(xx, yy, u.values, v.values)\n",
    "#     qk = plt.quiverkey(qu, 0.76, 0.95, 10, '10 m s$^{-1}$',\n",
    "#                        labelpos='E', coordinates='figure')\n",
    "\n",
    "    smap.set_data(data1.isel(time=time))\n",
    "    smap.visualize(ax, title=str(galt) + \" GALT\", cbar_title=long_name)\n",
    "    plt.savefig(filename_var + \"_islands_\" + str(ds.time.data[time].astype('datetime64[h]')), transparent=True, dpi=400)\n",
    "    plt.close()"
   ]
  },
  {
   "cell_type": "code",
   "execution_count": null,
   "id": "795f4be6",
   "metadata": {},
   "outputs": [
    {
     "name": "stderr",
     "output_type": "stream",
     "text": [
      "/home/ben/.pyenv/versions/3.9.8/envs/darwin/lib/python3.9/site-packages/salem/graphics.py:260: RuntimeWarning: Minimum data out of bounds.\n",
      "  warnings.warn('Minimum data out of bounds.', RuntimeWarning)\n",
      "/home/ben/.pyenv/versions/3.9.8/envs/darwin/lib/python3.9/site-packages/salem/graphics.py:260: RuntimeWarning: Minimum data out of bounds.\n",
      "  warnings.warn('Minimum data out of bounds.', RuntimeWarning)\n",
      "/home/ben/.pyenv/versions/3.9.8/envs/darwin/lib/python3.9/site-packages/salem/graphics.py:260: RuntimeWarning: Minimum data out of bounds.\n",
      "  warnings.warn('Minimum data out of bounds.', RuntimeWarning)\n"
     ]
    }
   ],
   "source": [
    "# domain 2\n",
    "for time in range(23):\n",
    "    f, ax = plt.subplots(figsize=(14, 10), layout='tight')\n",
    "    galt = ds.time.data[time].astype('datetime64[m]') - np.timedelta64(6, 'h')\n",
    "    smap = ds.salem.get_map(nx=340, ny=240,)\n",
    "    smap.set_scale_bar(location=(0.9, 0.01), add_bbox=True)\n",
    "    smap.set_lonlat_contours(interval=1, linewidths=1,\n",
    "                             linestyles='-.')\n",
    "    smap.set_shapefile(rivers=True)\n",
    "    smap.set_cmap(cmap)\n",
    "    smap.set_extend(extend)\n",
    "    smap.set_vmin(vmin)\n",
    "    smap.set_vmax(vmax)\n",
    "    \n",
    "#     u = ds.U10.isel(time=time)\n",
    "#     v = ds.V10.isel(time=time)\n",
    "\n",
    "#     u = u[7::14, 7::14]\n",
    "#     v = v[7::14, 7::14]\n",
    "\n",
    "#     xx, yy = smap.grid.transform(u.west_east.values, u.south_north.values,\n",
    "#                                  crs=u.salem.grid.proj)\n",
    "#     xx, yy = np.meshgrid(xx, yy)\n",
    "#     qu = ax.quiver(xx, yy, u.values, v.values)\n",
    "#     qk = plt.quiverkey(qu, 0.8, 0.94, 10, '10 m s$^{-1}$',\n",
    "#                        labelpos='E', coordinates='figure')\n",
    "\n",
    "    smap.set_data(data1.isel(time=time))\n",
    "    smap.visualize(ax, title=str(galt) + \" GALT\", cbar_title=long_name)\n",
    "    plt.savefig(filename_var + \"_d02_\" + str(ds.time.data[time].astype('datetime64[h]')), transparent=True, dpi=400)\n",
    "    plt.close()"
   ]
  },
  {
   "cell_type": "code",
   "execution_count": null,
   "id": "6954049f",
   "metadata": {},
   "outputs": [],
   "source": [
    "# domain 1\n",
    "for time in range(23):\n",
    "    f, ax = plt.subplots(figsize=(14, 10), layout='tight')\n",
    "    galt = ds1.time.data[time].astype('datetime64[m]') - np.timedelta64(6, 'h')\n",
    "    smap = ds1.salem.get_map(nx=274, ny=184,)\n",
    "    smap.set_scale_bar(location=(0.9, 0.01), add_bbox=True)\n",
    "    smap.set_lonlat_contours(interval=5, linewidths=1,\n",
    "                             linestyles='-.')\n",
    "    smap.set_shapefile(rivers=True)\n",
    "    smap.set_cmap(cmap)\n",
    "    smap.set_extend(extend)\n",
    "    smap.set_vmin(vmin)\n",
    "    smap.set_vmax(vmax)\n",
    "    \n",
    "#     u = ds1.U10.isel(time=time)\n",
    "#     v = ds1.V10.isel(time=time)\n",
    "#     u = u[9::14, 9::14]\n",
    "#     v = v[9::14, 9::14]\n",
    "\n",
    "#     xx, yy = smap.grid.transform(u.west_east.values, u.south_north.values,\n",
    "#                                  crs=u.salem.grid.proj)\n",
    "#     xx, yy = np.meshgrid(xx, yy)\n",
    "#     qu = ax.quiver(xx, yy, u.values, v.values)\n",
    "#     qk = plt.quiverkey(qu, 0.8, 0.94, 10, '10 m s$^{-1}$',\n",
    "#                        labelpos='E', coordinates='figure')\n",
    "\n",
    "    smap.set_data(data2.isel(time=time))\n",
    "    smap.visualize(ax, title=str(galt) + \" GALT\", cbar_title=long_name)\n",
    "    plt.savefig(filename_var + \"_d01_\" + str(ds1.time.data[time].astype('datetime64[h]')), transparent=True, dpi=400)\n",
    "    plt.close()"
   ]
  }
 ],
 "metadata": {
  "kernelspec": {
   "display_name": "Python 3 (ipykernel)",
   "language": "python",
   "name": "python3"
  },
  "language_info": {
   "codemirror_mode": {
    "name": "ipython",
    "version": 3
   },
   "file_extension": ".py",
   "mimetype": "text/x-python",
   "name": "python",
   "nbconvert_exporter": "python",
   "pygments_lexer": "ipython3",
   "version": "3.9.8"
  }
 },
 "nbformat": 4,
 "nbformat_minor": 5
}
